{
  "nbformat": 4,
  "nbformat_minor": 0,
  "metadata": {
    "colab": {
      "name": "Sololearn_DS_with_Python_Data_Manipulation",
      "provenance": [],
      "authorship_tag": "ABX9TyNf1qQkS0XDQrEoiwVcqzEj",
      "include_colab_link": true
    },
    "kernelspec": {
      "name": "python3",
      "display_name": "Python 3"
    }
  },
  "cells": [
    {
      "cell_type": "markdown",
      "metadata": {
        "id": "view-in-github",
        "colab_type": "text"
      },
      "source": [
        "<a href=\"https://colab.research.google.com/github/nagoyann9/Study_log_of_Google_Collabolatory/blob/main/Sololearn_DS_with_Python_Data_Manipulation.ipynb\" target=\"_parent\"><img src=\"https://colab.research.google.com/assets/colab-badge.svg\" alt=\"Open In Colab\"/></a>"
      ]
    },
    {
      "cell_type": "markdown",
      "metadata": {
        "id": "CcXkUXEdKfVd"
      },
      "source": [
        "#Welcome to Data Science\n",
        "###Why Python?\n",
        "エンジニアリング環境で他のフレームワーク（Webアプリケーションなど）とうまく統合できます。探索的データ分析の手法を本コースでは利用します。\n",
        "\n",
        "#Numpy (Numerical:数値の Python) \n",
        "Numpyを使用すると、188cmより背が高い大統領の数に対する答えを簡単に見つけることができます。\n",
        "\n",
        "```\n",
        "import numpy as np\n",
        "```\n",
        " \n",
        "importステートメントを使用すると、numpyライブラリ内の関数とモジュールにアクセスできます。 ライブラリは頻繁に使用されるため、慣例により、numpyは短い名前npでインポートされます。\n",
        "\n",
        "```\n",
        "heights = [189, 170, 189, 163, 183, 171, 185, 168, 173, 183, 173, 173, 175, 178, 183, 193, 178, 173, 174, 183, 183, 180, 168, 180, 170, 178, 182, 180, 183, 178, 182, 188, 175, 179, 183, 193, 182, 183, 177, 185, 188, 188, 182, 185, 191]\n",
        "heights_arr = np.array(heights)\n",
        "```\n",
        "\n",
        "2行目は、np.array（）を介して、リストをnumpy配列オブジェクトに変換します。このオブジェクトはnumpyで提供されるツールで使用できます。\n",
        "```\n",
        "print((heights_arr > 188).sum())\n",
        "```\n",
        "データセットが大きく複雑になるにつれて、numpyを使用すると、より効率的でforループのない方法を使用してデータを操作および分析できます。\n",
        "\n",
        "#pandas\n",
        "データの統計量を表示したり、グラフ化するなど、データ分析（データサイエンス）のライブラリ\n",
        "\n",
        "#matplotlib\n",
        "matplotlibとはPythonにおけるグラフ描画の標準的なライブラリ。様々な種類のグラフを作成する事が出来、使い方を一度覚えておくととても便利。\n",
        "\n",
        "#scikit-learn\n",
        "「サイキット・ラーン」と読む。scikit-learnは、現在も活発に開発が行われており、インターネット上で情報を探すのも容易。多くの機械学習アルゴリズムが実装されており、どのアルゴリズムでも同じような書き方で利用することができる。また、サンプルのデータセット（トイデータセット）が付属しており、インストールしてすぐ機械学習を試すことができる。\n",
        "\n",
        "##できることの例\n",
        "線形回帰を使用して家の価値を予測し、分類アルゴリズムを使用して虹彩のクラスを識別し、ワイン内のクラスターを見つけます。これは、データサイエンスでできることのほんの一例です。\n",
        "\n",
        "#数値データ\n",
        "データセットの形式\n",
        "データセットは、さまざまなソースと形式から取得されます。数値測定値のコレクション、テキストコーパス、画像、オーディオクリップ、または基本的には何でもかまいません。\n",
        "データサイエンスの最初のステップ\n",
        "形式に関係なく、データサイエンスの最初のステップは、データサイエンスを数値の配列に変換することです。"
      ]
    },
    {
      "cell_type": "markdown",
      "metadata": {
        "id": "t_IrbRXdQCzy"
      },
      "source": [
        ""
      ]
    },
    {
      "cell_type": "markdown",
      "metadata": {
        "id": "G4jb7mIfVGH_"
      },
      "source": [
        "# Size and Shape\n"
      ]
    },
    {
      "cell_type": "markdown",
      "metadata": {
        "id": "3getnFi3aizW"
      },
      "source": [
        "An array class in Numpy is called an ndarray or n-dimensional array. We can use this to count the number of presidents in heights_arr, use attribute numpy.ndarray.size\n",
        "\n"
      ]
    },
    {
      "cell_type": "code",
      "metadata": {
        "colab": {
          "base_uri": "https://localhost:8080/"
        },
        "id": "o_56kpfEWf-K",
        "outputId": "6db9c13a-d475-482e-f1e7-fc59300f7f00"
      },
      "source": [
        "import numpy as np\n",
        "\n",
        "heights = [189, 170, 189, 163, 183, 171, 185, 168, 173, 183, 173, 173, 175, 178, 183, 193, 178, 173, 174, 183, 183, 180, 168, 180, 170, 178, 182, 180, 183, 178, 182, 188, 175, 179, 183, 193, 182, 183, 177, 185, 188, 188, 182, 185, 191]\n",
        "\n",
        "heights_arr = np.array(heights)\n",
        "print(heights_arr.size)"
      ],
      "execution_count": 6,
      "outputs": [
        {
          "output_type": "stream",
          "text": [
            "45\n"
          ],
          "name": "stdout"
        }
      ]
    },
    {
      "cell_type": "markdown",
      "metadata": {
        "id": "V6MZpeYwcLwn"
      },
      "source": [
        "Note that once an array is created in numpy, **its size cannot be changed**.\n",
        "\n",
        "**Size** tells us **how big the array** is, **shape** tells us the **dimension**. To get current shape of an array use attribute shape:"
      ]
    },
    {
      "cell_type": "code",
      "metadata": {
        "colab": {
          "base_uri": "https://localhost:8080/"
        },
        "id": "X0uQyexJb1T3",
        "outputId": "81c2373c-8178-4edf-8a24-56286f7c73b1"
      },
      "source": [
        "print(heights_arr.size)\n",
        "print(heights_arr.shape)"
      ],
      "execution_count": 8,
      "outputs": [
        {
          "output_type": "stream",
          "text": [
            "45\n",
            "(45,)\n"
          ],
          "name": "stdout"
        }
      ]
    },
    {
      "cell_type": "markdown",
      "metadata": {
        "id": "VnDuZ_tFc3St"
      },
      "source": [
        "Shape's output is a **tuple**, recall that the built-in data type tuple is immutable whereas a list is mutable, containing a single value, indicating that there is only one dimension, i.e., axis 0. Along axis 0, there are 45 elements (one for each president) Here, heights_arr is a 1d array."
      ]
    },
    {
      "cell_type": "code",
      "metadata": {
        "id": "45SHNf8BfUUP"
      },
      "source": [
        "#age of Presidents\n",
        "ages = [57, 61, 57, 57, 58, 57, 61, 54, 68, 51, 49, 64, 50, 48, 65, 52, 56, 46, 54, 49, 51, 47, 55, 55, 54, 42, 51, 56, 55, 51, 54, 51, 60, 62, 43, 55, 56, 61, 52, 69, 64, 46, 54, 47, 70]"
      ],
      "execution_count": 9,
      "outputs": []
    },
    {
      "cell_type": "markdown",
      "metadata": {
        "id": "UdXbMsz2frt7"
      },
      "source": [
        "Since both heights and ages are all about the same presidents, we can combine them:"
      ]
    },
    {
      "cell_type": "code",
      "metadata": {
        "colab": {
          "base_uri": "https://localhost:8080/"
        },
        "id": "0cypr6MAfl2K",
        "outputId": "9adc7c49-9d6a-4d7c-ac3f-8306767a27e6"
      },
      "source": [
        "heights_and_ages = heights + ages \n",
        "# convert a list to a numpy array\n",
        "heights_and_ages_arr = np.array(heights_and_ages)\n",
        "print(heights_and_ages_arr.shape)"
      ],
      "execution_count": 10,
      "outputs": [
        {
          "output_type": "stream",
          "text": [
            "(90,)\n"
          ],
          "name": "stdout"
        }
      ]
    },
    {
      "cell_type": "markdown",
      "metadata": {
        "id": "rdy1o_T-gf2C"
      },
      "source": [
        "This produces one long array. It would be clearer if we could align height and age for each president and reorganize the data into a 2 by 45 matrix where the first row contains all heights and the second row contains ages. To achieve this, a new array can be created by calling **numpy.ndarray.reshape** with new dimensions specified in a tuple:\n"
      ]
    },
    {
      "cell_type": "code",
      "metadata": {
        "colab": {
          "base_uri": "https://localhost:8080/"
        },
        "id": "KPwfk5Nagwh-",
        "outputId": "a7be8280-a565-4b65-b11b-25fe3dcee9c4"
      },
      "source": [
        "heights_and_ages_arr.reshape((2,45))"
      ],
      "execution_count": 11,
      "outputs": [
        {
          "output_type": "execute_result",
          "data": {
            "text/plain": [
              "array([[189, 170, 189, 163, 183, 171, 185, 168, 173, 183, 173, 173, 175,\n",
              "        178, 183, 193, 178, 173, 174, 183, 183, 180, 168, 180, 170, 178,\n",
              "        182, 180, 183, 178, 182, 188, 175, 179, 183, 193, 182, 183, 177,\n",
              "        185, 188, 188, 182, 185, 191],\n",
              "       [ 57,  61,  57,  57,  58,  57,  61,  54,  68,  51,  49,  64,  50,\n",
              "         48,  65,  52,  56,  46,  54,  49,  51,  47,  55,  55,  54,  42,\n",
              "         51,  56,  55,  51,  54,  51,  60,  62,  43,  55,  56,  61,  52,\n",
              "         69,  64,  46,  54,  47,  70]])"
            ]
          },
          "metadata": {
            "tags": []
          },
          "execution_count": 11
        }
      ]
    },
    {
      "cell_type": "markdown",
      "metadata": {
        "id": "WI-FCsGohMZO"
      },
      "source": [
        "The reshaped array is now a 2darray, yet note that the original array is not changed. We can reshape an array in multiple ways, as long as the size of the reshaped array matches that of the original."
      ]
    },
    {
      "cell_type": "markdown",
      "metadata": {
        "id": "_zoBE5bhhbAZ"
      },
      "source": [
        "Numpy can calculate the shape (dimension) for us if we indicate the unknown dimension as -1. For example, given a 2darray `arr` of shape (3,4), arr.reshape(-1) would output a 1darray of shape (12,), while arr.reshape((-1,2)) would generate a 2darray of shape (6,2)."
      ]
    },
    {
      "cell_type": "code",
      "metadata": {
        "colab": {
          "base_uri": "https://localhost:8080/"
        },
        "id": "znXFfNefhe4t",
        "outputId": "9c2fc99a-e7ee-467c-a2b3-71c33d281fd9"
      },
      "source": [
        "#MyTrial\n",
        "san_kakeru_yon = [[12,11,10],[9,8,7],[6,5,4],[3,2,1]]\n",
        "san_kakeru_yon_ndarray = np.array(san_kakeru_yon)\n",
        "print(san_kakeru_yon_ndarray.size)\n",
        "print(san_kakeru_yon_ndarray.shape)"
      ],
      "execution_count": 17,
      "outputs": [
        {
          "output_type": "stream",
          "text": [
            "12\n",
            "(4, 3)\n"
          ],
          "name": "stdout"
        }
      ]
    },
    {
      "cell_type": "code",
      "metadata": {
        "colab": {
          "base_uri": "https://localhost:8080/"
        },
        "id": "FvEcT8VRjjR7",
        "outputId": "1d3d60c0-1524-4fda-a13d-bc8711a12218"
      },
      "source": [
        "#ReTrial 3*4\n",
        "#逆だった\n",
        "\n",
        "re_array = [[12,11,10,9],[8,7,6,5],[4,3,2,1]]\n",
        "re_array_ndarray = np.array(re_array)\n",
        "print(re_array_ndarray.size)\n",
        "print(re_array_ndarray.shape)"
      ],
      "execution_count": 18,
      "outputs": [
        {
          "output_type": "stream",
          "text": [
            "12\n",
            "(3, 4)\n"
          ],
          "name": "stdout"
        }
      ]
    },
    {
      "cell_type": "code",
      "metadata": {
        "colab": {
          "base_uri": "https://localhost:8080/"
        },
        "id": "tze-9W6ykztJ",
        "outputId": "f2861973-c100-4597-a61d-ee5fd16b6076"
      },
      "source": [
        "#!\n",
        "print(re_array_ndarray.reshape(-1))\n",
        "print(re_array_ndarray.size)\n",
        "print(re_array_ndarray.shape)"
      ],
      "execution_count": 22,
      "outputs": [
        {
          "output_type": "stream",
          "text": [
            "[12 11 10  9  8  7  6  5  4  3  2  1]\n",
            "12\n",
            "(3, 4)\n",
            "12\n",
            "(3, 4)\n"
          ],
          "name": "stdout"
        }
      ]
    },
    {
      "cell_type": "code",
      "metadata": {
        "colab": {
          "base_uri": "https://localhost:8080/"
        },
        "id": "gnEFb-Looqhs",
        "outputId": "c727c8b2-7ec9-4d52-8576-22551ad854ac"
      },
      "source": [
        "#!\n",
        "#変更できないものにはできない\n",
        "#️print(re_array_ndarray(-1,2)) #エラー\n",
        "#もう一個サンプルのアレイを作る\n",
        "re_array2 = [[13,11,10,9],[8,7,6,5],[4,3,2,1]]\n",
        "re_array2_ndarray = np.array(re_array2)\n",
        "print(re_array2_ndarray.size)\n",
        "print(re_array2_ndarray.shape)"
      ],
      "execution_count": 24,
      "outputs": [
        {
          "output_type": "stream",
          "text": [
            "12\n",
            "(3, 4)\n",
            "[[13 11]\n",
            " [10  9]\n",
            " [ 8  7]\n",
            " [ 6  5]\n",
            " [ 4  3]\n",
            " [ 2  1]]\n"
          ],
          "name": "stdout"
        }
      ]
    },
    {
      "cell_type": "code",
      "metadata": {
        "colab": {
          "base_uri": "https://localhost:8080/"
        },
        "id": "gSb_uz4wp5nM",
        "outputId": "39be71cf-3266-482a-d6a5-06252493b541"
      },
      "source": [
        "#!\n",
        "#\b2個が6個の多次元配列をつくる\n",
        "niroku = re_array2_ndarray.reshape((-1,2)) #2個ずつ切っていくイメージ\n",
        "print(niroku)\n",
        "print(niroku.size)\n",
        "print(niroku.shape)"
      ],
      "execution_count": 26,
      "outputs": [
        {
          "output_type": "stream",
          "text": [
            "[[13 11]\n",
            " [10  9]\n",
            " [ 8  7]\n",
            " [ 6  5]\n",
            " [ 4  3]\n",
            " [ 2  1]]\n",
            "12\n",
            "(6, 2)\n"
          ],
          "name": "stdout"
        }
      ]
    },
    {
      "cell_type": "markdown",
      "metadata": {
        "id": "hhNV4hN4qnsw"
      },
      "source": [
        "#Data Type"
      ]
    },
    {
      "cell_type": "markdown",
      "metadata": {
        "id": "TiRVzWulqt6Y"
      },
      "source": [
        "Another characteristic about numpy array is that it is **homogeneous（別名配列）**, meaning each element must be of the same data type.\n",
        "\n",
        "For example, in heights_arr, we recorded all heights in whole numbers; thus each element is stored as an integer in the array. To check the data type, use numpy.ndarray.dtype"
      ]
    },
    {
      "cell_type": "code",
      "metadata": {
        "colab": {
          "base_uri": "https://localhost:8080/"
        },
        "id": "o4xmDPa1roNQ",
        "outputId": "81a310d3-20eb-434c-e96d-acde52ed0feb"
      },
      "source": [
        "heights_arr.dtype"
      ],
      "execution_count": 27,
      "outputs": [
        {
          "output_type": "execute_result",
          "data": {
            "text/plain": [
              "dtype('int64')"
            ]
          },
          "metadata": {
            "tags": []
          },
          "execution_count": 27
        }
      ]
    },
    {
      "cell_type": "code",
      "metadata": {
        "colab": {
          "base_uri": "https://localhost:8080/"
        },
        "id": "LAWjvs2ssDf8",
        "outputId": "759348f2-a03f-41a1-85f2-1b48304641af"
      },
      "source": [
        "import numpy as np\n",
        "\n",
        "heights_float = [189.0, 170, 189, 163, 183, 171, 185, 168, 173, 183, 173, 173, 175, 178, 183, 193, 178, 173, 174, 183, 183, 180, 168, 180, 170, 178, 182, 180, 183, 178, 182, 188, 175, 179, 183, 193, 182, 183, 177, 185, 188, 188, 182, 185, 191]\n",
        "#189.0を189にすれば\"int64\"になる\n",
        "heights_float_arr = np.array(heights_float)\n",
        "print(heights_float_arr)\n",
        "print(\"\\n\")\n",
        "print(heights_float_arr.dtype)"
      ],
      "execution_count": 30,
      "outputs": [
        {
          "output_type": "stream",
          "text": [
            "[189. 170. 189. 163. 183. 171. 185. 168. 173. 183. 173. 173. 175. 178.\n",
            " 183. 193. 178. 173. 174. 183. 183. 180. 168. 180. 170. 178. 182. 180.\n",
            " 183. 178. 182. 188. 175. 179. 183. 193. 182. 183. 177. 185. 188. 188.\n",
            " 182. 185. 191.]\n",
            "\n",
            "\n",
            "float64\n"
          ],
          "name": "stdout"
        }
      ]
    },
    {
      "cell_type": "markdown",
      "metadata": {
        "id": "jahses9VseZQ"
      },
      "source": [
        "Numpy supports several data types such as int (integer), float (numeric floating point), and bool (boolean values, True and False). The number after the data type, ex. int64, represents the bitsize of the data type."
      ]
    },
    {
      "cell_type": "code",
      "metadata": {
        "id": "cXmixbSUsg3S"
      },
      "source": [
        ""
      ],
      "execution_count": null,
      "outputs": []
    },
    {
      "cell_type": "code",
      "metadata": {
        "id": "UF3ai94QKqmw"
      },
      "source": [
        ""
      ],
      "execution_count": null,
      "outputs": []
    }
  ]
}